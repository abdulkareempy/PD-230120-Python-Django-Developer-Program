{
 "cells": [
  {
   "cell_type": "code",
   "execution_count": null,
   "metadata": {},
   "outputs": [],
   "source": [
    "1. Pattern extraction : from a file extract only emails\n",
    "2. Pattern Validation : given an email address validate if its a valid email address or not"
   ]
  },
  {
   "cell_type": "code",
   "execution_count": null,
   "metadata": {},
   "outputs": [],
   "source": [
    "1. only @\n",
    "2. after @ there will be domain name \n",
    "3. before @ a set of alpha numneric char\n",
    "4. . , _  abc.a_3"
   ]
  },
  {
   "cell_type": "code",
   "execution_count": null,
   "metadata": {},
   "outputs": [],
   "source": [
    "abcds._1@xyz.com"
   ]
  },
  {
   "cell_type": "code",
   "execution_count": null,
   "metadata": {},
   "outputs": [],
   "source": [
    "Meta characters "
   ]
  },
  {
   "cell_type": "code",
   "execution_count": 1,
   "metadata": {},
   "outputs": [],
   "source": [
    "import re"
   ]
  },
  {
   "cell_type": "code",
   "execution_count": 2,
   "metadata": {},
   "outputs": [
    {
     "name": "stdout",
     "output_type": "stream",
     "text": [
      "['ab', 'ab', 'ab', 'ab', 'ab']\n"
     ]
    }
   ],
   "source": [
    "r = re.compile(\"ab\")\n",
    "s = \"abcdababcdabab\"\n",
    "l = re.findall(r,s)\n",
    "print(l)"
   ]
  },
  {
   "cell_type": "code",
   "execution_count": null,
   "metadata": {},
   "outputs": [],
   "source": [
    "Metachar:\n",
    "    [a-z] : char class : 1 occurance of [a-z] a or b or c or d or ......... or z \n",
    "    [0-9] : digit class  [0-9] : 1 occurance \n",
    "    [A-Za-z0-9]\n",
    "    + : atleast one occ should be there if more thats fine \n",
    "    * : zero or more occ are allowed\n",
    "    ^ : start of the string \n",
    "    $ : end of the string \n",
    "    [0-9]{5}\n",
    "    [a-z]{2,5}\n",
    "    ? : optional\n",
    "    "
   ]
  },
  {
   "cell_type": "code",
   "execution_count": 7,
   "metadata": {},
   "outputs": [
    {
     "name": "stdout",
     "output_type": "stream",
     "text": [
      "['a', 'b', 'a']\n"
     ]
    }
   ],
   "source": [
    "r = re.compile(\"[a-z]\")\n",
    "s = \"aba\"\n",
    "l = re.findall(r,s)\n",
    "print(l)"
   ]
  },
  {
   "cell_type": "code",
   "execution_count": 13,
   "metadata": {},
   "outputs": [
    {
     "name": "stdout",
     "output_type": "stream",
     "text": [
      "['1', '2', '3', '4']\n"
     ]
    }
   ],
   "source": [
    "r = re.compile(\"[0-9]\")\n",
    "s = \"ABabcd1234\"\n",
    "l = re.findall('[0-9]',s)\n",
    "print(l)"
   ]
  },
  {
   "cell_type": "code",
   "execution_count": 12,
   "metadata": {},
   "outputs": [
    {
     "name": "stdout",
     "output_type": "stream",
     "text": [
      "['d1', 'Z4', ' 9']\n"
     ]
    }
   ],
   "source": [
    "r = re.compile(\"[A-Z a-z][0-9]\")\n",
    "s = \"ABabcd123Z4 9\"\n",
    "l = re.findall(r,s)\n",
    "print(l)"
   ]
  },
  {
   "cell_type": "code",
   "execution_count": 32,
   "metadata": {},
   "outputs": [
    {
     "name": "stdout",
     "output_type": "stream",
     "text": [
      "[]\n"
     ]
    }
   ],
   "source": [
    "r = re.compile(\"^[a-z]+[0-9]+$\")\n",
    "s = \"abcd1234rst56789\"\n",
    "l = re.findall(r,s)\n",
    "print(l)"
   ]
  },
  {
   "cell_type": "code",
   "execution_count": null,
   "metadata": {},
   "outputs": [],
   "source": [
    "[0-9]+"
   ]
  },
  {
   "cell_type": "code",
   "execution_count": 35,
   "metadata": {},
   "outputs": [
    {
     "name": "stdout",
     "output_type": "stream",
     "text": [
      "[]\n"
     ]
    }
   ],
   "source": [
    "r = re.compile(\"^[a-z]{3}[0-9]{4}$\")\n",
    "s = \"ac1234\"\n",
    "l = re.findall(r,s)\n",
    "print(l)"
   ]
  },
  {
   "cell_type": "code",
   "execution_count": 42,
   "metadata": {},
   "outputs": [
    {
     "name": "stdout",
     "output_type": "stream",
     "text": [
      "['ABCDE1234A']\n"
     ]
    }
   ],
   "source": [
    "pan_no = \"ABCDE1234A\"\n",
    "# 5 upper char \n",
    "# 4 digits \n",
    "# 1 upper case char \n",
    "pattern = re.compile(\"^[A-Z]{5}[0-9]{4}[A-Z]$\")\n",
    "l = re.findall(pattern,pan_no)\n",
    "print(l)"
   ]
  },
  {
   "cell_type": "code",
   "execution_count": 48,
   "metadata": {},
   "outputs": [
    {
     "name": "stdout",
     "output_type": "stream",
     "text": [
      "ABCDE1234A\n"
     ]
    }
   ],
   "source": [
    "pan_no = \"ABCDE1234A\"\n",
    "# 5 upper char \n",
    "# 4 digits \n",
    "# 1 upper case char \n",
    "pattern = re.compile(\"^[A-Z]{5}[0-9]{4}[A-Z]$\")\n",
    "m = re.search(pattern,pan_no)\n",
    "\n",
    "if m:\n",
    "    print(m.group())\n",
    "else:\n",
    "    print(\"Invalid PAN number\")"
   ]
  },
  {
   "cell_type": "code",
   "execution_count": 54,
   "metadata": {},
   "outputs": [
    {
     "name": "stdout",
     "output_type": "stream",
     "text": [
      "['python']\n"
     ]
    }
   ],
   "source": [
    "s = \"python\"\n",
    "s1 = \"python34\"\n",
    "\n",
    "r = re.compile(\"python[0-9]*?\")\n",
    "l = re.findall(r,s1)\n",
    "print(l)"
   ]
  },
  {
   "cell_type": "code",
   "execution_count": null,
   "metadata": {},
   "outputs": [],
   "source": [
    "(\\(\\+91\\))?"
   ]
  },
  {
   "cell_type": "code",
   "execution_count": 70,
   "metadata": {},
   "outputs": [
    {
     "name": "stdout",
     "output_type": "stream",
     "text": [
      "<_sre.SRE_Match object; span=(0, 15), match='(+91)7123456789'>\n",
      "7123456789\n"
     ]
    }
   ],
   "source": [
    "num = \"(+91)7123456789\"\n",
    "num1 = \"7123456789\"\n",
    "r = re.compile(\"^(\\(\\+91\\))?([6-9][0-9]{9})$\")\n",
    "m = re.search(r,num)\n",
    "print(m)\n",
    "if m:\n",
    "    print(m.group(2))\n",
    "else:\n",
    "    print(\"Invalid contact number\")"
   ]
  },
  {
   "cell_type": "code",
   "execution_count": 80,
   "metadata": {},
   "outputs": [
    {
     "name": "stdout",
     "output_type": "stream",
     "text": [
      "13\n"
     ]
    }
   ],
   "source": [
    "d = \"32-13-2020\"\n",
    "r = re.compile(\"^(?P<day>[0-9]{2})-(?P<month>[0-9]{2})-(?P<year>[0-9]{4})\")\n",
    "m =  re.search(r,d)\n",
    "if m:\n",
    "    print(m.group(2))\n",
    "\n",
    "\n"
   ]
  },
  {
   "cell_type": "code",
   "execution_count": null,
   "metadata": {},
   "outputs": [],
   "source": [
    "Named groups"
   ]
  },
  {
   "cell_type": "code",
   "execution_count": null,
   "metadata": {},
   "outputs": [],
   "source": [
    "abc@gmail.com"
   ]
  },
  {
   "cell_type": "code",
   "execution_count": null,
   "metadata": {},
   "outputs": [],
   "source": [
    "0 or 1 occurance \n",
    "* : 0 or many "
   ]
  },
  {
   "cell_type": "code",
   "execution_count": null,
   "metadata": {},
   "outputs": [],
   "source": [
    "1. Write a program to validate the date part\n",
    "2. Check if given email is valid or not \n",
    "3. URL validation "
   ]
  },
  {
   "cell_type": "code",
   "execution_count": 90,
   "metadata": {},
   "outputs": [
    {
     "name": "stdout",
     "output_type": "stream",
     "text": [
      "<Response [200]>\n"
     ]
    }
   ],
   "source": [
    "import requests\n",
    "from bs4 import BeautifulSoup\n",
    "\n",
    "response = requests.get(\"https://www.imdb.com/movies-coming-soon/2020-05/\")\n",
    "print(response)"
   ]
  },
  {
   "cell_type": "code",
   "execution_count": 91,
   "metadata": {},
   "outputs": [],
   "source": [
    "soup =  BeautifulSoup(response.content,\"html.parser\")\n"
   ]
  },
  {
   "cell_type": "code",
   "execution_count": 96,
   "metadata": {},
   "outputs": [
    {
     "name": "stdout",
     "output_type": "stream",
     "text": [
      "113 min\n"
     ]
    }
   ],
   "source": [
    "time = soup.find(\"time\").get_text()\n",
    "print(time)"
   ]
  },
  {
   "cell_type": "code",
   "execution_count": 84,
   "metadata": {},
   "outputs": [
    {
     "name": "stdout",
     "output_type": "stream",
     "text": [
      "Help on function get in module requests.api:\n",
      "\n",
      "get(url, params=None, **kwargs)\n",
      "    Sends a GET request.\n",
      "    \n",
      "    :param url: URL for the new :class:`Request` object.\n",
      "    :param params: (optional) Dictionary or bytes to be sent in the query string for the :class:`Request`.\n",
      "    :param \\*\\*kwargs: Optional arguments that ``request`` takes.\n",
      "    :return: :class:`Response <Response>` object\n",
      "    :rtype: requests.Response\n",
      "\n"
     ]
    }
   ],
   "source": [
    "help(requests.get)"
   ]
  }
 ],
 "metadata": {
  "kernelspec": {
   "display_name": "Python 3",
   "language": "python",
   "name": "python3"
  },
  "language_info": {
   "codemirror_mode": {
    "name": "ipython",
    "version": 3
   },
   "file_extension": ".py",
   "mimetype": "text/x-python",
   "name": "python",
   "nbconvert_exporter": "python",
   "pygments_lexer": "ipython3",
   "version": "3.6.5"
  }
 },
 "nbformat": 4,
 "nbformat_minor": 2
}
