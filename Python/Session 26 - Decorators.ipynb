{
 "cells": [
  {
   "cell_type": "code",
   "execution_count": null,
   "metadata": {},
   "outputs": [],
   "source": [
    "@classmethod"
   ]
  },
  {
   "cell_type": "code",
   "execution_count": null,
   "metadata": {},
   "outputs": [],
   "source": [
    "def : a doc a func which takes a func as an arg and return a new func "
   ]
  },
  {
   "cell_type": "code",
   "execution_count": 1,
   "metadata": {},
   "outputs": [
    {
     "name": "stdout",
     "output_type": "stream",
     "text": [
      "30\n",
      "PythonJava\n",
      "10Python\n"
     ]
    }
   ],
   "source": [
    "def add_deco(func):\n",
    "    def add_new(val1,val2):\n",
    "        if type(val1) == type(val2):\n",
    "            return func(val1,val2)\n",
    "        else:\n",
    "            return func(str(val1),str(val2))\n",
    "        \n",
    "    return add_new\n",
    "\n",
    "@add_deco\n",
    "def add(val1,val2):\n",
    "    return val1 + val2\n",
    "\n",
    "print(add(10,20))\n",
    "print(add(\"Python\",\"Java\"))\n",
    "print(add(10,\"Python\"))"
   ]
  },
  {
   "cell_type": "code",
   "execution_count": null,
   "metadata": {},
   "outputs": [],
   "source": [
    "add()     add_new()"
   ]
  },
  {
   "cell_type": "code",
   "execution_count": null,
   "metadata": {},
   "outputs": [],
   "source": [
    "print(add(10,20)) =>30 \n",
    "@add_deco\n",
    "def add_deco(func):\n",
    "    return add_new => 30\n",
    "\n",
    "def add_new(val1,val2)\n",
    "    return func(val1,val2) => 30\n",
    "\n",
    "def add(val1,val2)\n",
    "    return val1 + val2"
   ]
  },
  {
   "cell_type": "code",
   "execution_count": 2,
   "metadata": {},
   "outputs": [
    {
     "name": "stdout",
     "output_type": "stream",
     "text": [
      "New email is abc@xyz.com\n",
      "Unauthorized\n",
      "Unauthorized\n"
     ]
    }
   ],
   "source": [
    "def login_required(func):\n",
    "    \n",
    "    def login(username,password,value):\n",
    "        if username == \"abc\" and password ==\"abc@123\":\n",
    "            return func(username,password,value)\n",
    "        else:\n",
    "            return \"Unauthorized\"\n",
    "        \n",
    "    return login\n",
    "    \n",
    "@login_required\n",
    "def update_email(username,password,new_email):\n",
    "    return \"New email is {}\".format(new_email)\n",
    "    \n",
    "@login_required\n",
    "def update_name(username,password,new_name):\n",
    "    return \"New email is {}\".format(new_name)\n",
    "    \n",
    "@login_required\n",
    "def change_password(username,password,new_password):\n",
    "    return \"New email is {}\".format(new_password)\n",
    "\n",
    "print(update_email(\"abc\",\"abc@123\",\"abc@xyz.com\"))\n",
    "print(update_name(\"abc\",\"abc@124\",\"RST\"))\n",
    "print(change_password(\"abd\",\"abc@123\",\"abc@125\"))"
   ]
  },
  {
   "cell_type": "code",
   "execution_count": null,
   "metadata": {},
   "outputs": [],
   "source": [
    "objects "
   ]
  },
  {
   "cell_type": "code",
   "execution_count": null,
   "metadata": {},
   "outputs": [],
   "source": [
    "pytest \n",
    "collections\n",
    "sys \n",
    "os \n",
    "xml json and csv parsing \n",
    "scrapy and splash "
   ]
  }
 ],
 "metadata": {
  "kernelspec": {
   "display_name": "Python 3",
   "language": "python",
   "name": "python3"
  },
  "language_info": {
   "codemirror_mode": {
    "name": "ipython",
    "version": 3
   },
   "file_extension": ".py",
   "mimetype": "text/x-python",
   "name": "python",
   "nbconvert_exporter": "python",
   "pygments_lexer": "ipython3",
   "version": "3.6.5"
  }
 },
 "nbformat": 4,
 "nbformat_minor": 2
}
