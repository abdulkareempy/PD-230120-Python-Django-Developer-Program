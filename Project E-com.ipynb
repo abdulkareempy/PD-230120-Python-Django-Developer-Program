{
 "cells": [
  {
   "cell_type": "markdown",
   "metadata": {},
   "source": [
    "### Landing Page\n",
    "<img src=\"wireframes\\landing.png\">"
   ]
  },
  {
   "cell_type": "code",
   "execution_count": null,
   "metadata": {},
   "outputs": [],
   "source": []
  },
  {
   "cell_type": "markdown",
   "metadata": {},
   "source": [
    "### Product Detail Page\n",
    "<img src=\"wireframes\\detail.jpg\">"
   ]
  },
  {
   "cell_type": "markdown",
   "metadata": {},
   "source": [
    "### Shopping Cart\n",
    "<img src=\"wireframes\\cart.jpg\">"
   ]
  },
  {
   "cell_type": "markdown",
   "metadata": {},
   "source": [
    "### Shopping Cart\n",
    "<img src=\"wireframes\\address.jpg\">"
   ]
  },
  {
   "cell_type": "code",
   "execution_count": null,
   "metadata": {},
   "outputs": [],
   "source": [
    "Users :\n",
    "    Cust : \n",
    "        Reg \n",
    "            - login/logout/change password/forget password\n",
    "            - view products and product details \n",
    "            - add products to cart \n",
    "            - Add/update/Delete/view cart\n",
    "            - Place the order/Cancel the order  \n",
    "            - Track the order \n",
    "            - CRUD Profile\n",
    "            - CRUD on reviews and ratings\n",
    "            - \n",
    "        anony.\n",
    "            - view products and product details \n",
    "            - add products to cart \n",
    "            - Add/update/Delete/view cart\n",
    "            - Signup or login \n",
    "    Admin \n",
    "        - CRUD on products \n",
    "        - CRUD in product categories\n",
    "        - CRUD on orders \n",
    "        - Add discounts \n",
    "        - Order Dashboard "
   ]
  },
  {
   "cell_type": "code",
   "execution_count": null,
   "metadata": {},
   "outputs": [],
   "source": [
    "Product:\n",
    "    name\n",
    "    desc \n",
    "    unit price \n",
    "    image \n",
    "    category\n",
    "    stock \n",
    "    discount \n",
    "    stock \n",
    "    \n",
    "Cart:\n",
    "    user\n",
    "    Prouct \n",
    "    Qty \n",
    "    status\n",
    "    total_price\n",
    "    \n",
    "Order:\n",
    "    user \n",
    "    cart\n",
    "    date_created \n",
    "    shipment_date\n",
    "    status "
   ]
  },
  {
   "cell_type": "code",
   "execution_count": null,
   "metadata": {},
   "outputs": [],
   "source": [
    "1. Search for templates \n",
    "2. Implemting the models and create queries "
   ]
  },
  {
   "cell_type": "code",
   "execution_count": null,
   "metadata": {},
   "outputs": [],
   "source": [
    "Product:\n",
    "    name\n",
    "    desc \n",
    "    unit price \n",
    "    image \n",
    "    category\n",
    "    discount \n",
    "    \n",
    "1 product : multiple options \n",
    "                \n",
    "Options\n",
    "    option category \n",
    "    name \n",
    "    product\n",
    "    stock \n",
    "    \n",
    "1 product many options \n",
    "1 option to 1 product\n",
    "\n",
    "1 to many "
   ]
  }
 ],
 "metadata": {
  "kernelspec": {
   "display_name": "Python 3",
   "language": "python",
   "name": "python3"
  },
  "language_info": {
   "codemirror_mode": {
    "name": "ipython",
    "version": 3
   },
   "file_extension": ".py",
   "mimetype": "text/x-python",
   "name": "python",
   "nbconvert_exporter": "python",
   "pygments_lexer": "ipython3",
   "version": "3.6.5"
  }
 },
 "nbformat": 4,
 "nbformat_minor": 2
}
