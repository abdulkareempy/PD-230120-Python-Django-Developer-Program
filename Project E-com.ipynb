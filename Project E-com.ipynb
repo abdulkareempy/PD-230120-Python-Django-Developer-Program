{
 "cells": [
  {
   "cell_type": "markdown",
   "metadata": {},
   "source": [
    "### Landing Page\n",
    "<img src=\"wireframes\\landing.png\">"
   ]
  },
  {
   "cell_type": "code",
   "execution_count": null,
   "metadata": {},
   "outputs": [],
   "source": []
  },
  {
   "cell_type": "markdown",
   "metadata": {},
   "source": [
    "### Product Detail Page\n",
    "<img src=\"wireframes\\detail.jpg\">"
   ]
  },
  {
   "cell_type": "markdown",
   "metadata": {},
   "source": [
    "### Shopping Cart\n",
    "<img src=\"wireframes\\cart.jpg\">"
   ]
  },
  {
   "cell_type": "markdown",
   "metadata": {},
   "source": [
    "### Shopping Cart\n",
    "<img src=\"wireframes\\address.jpg\">"
   ]
  },
  {
   "cell_type": "code",
   "execution_count": null,
   "metadata": {},
   "outputs": [],
   "source": [
    "Users :\n",
    "    Cust : \n",
    "        Reg \n",
    "            - login/logout/change password/forget password\n",
    "            - view products and product details \n",
    "            - add products to cart \n",
    "            - Add/update/Delete/view cart\n",
    "            - Place the order/Cancel the order  \n",
    "            - Track the order \n",
    "            - CRUD Profile\n",
    "            - CRUD on reviews and ratings\n",
    "            - \n",
    "        anony.\n",
    "            - view products and product details \n",
    "            - add products to cart \n",
    "            - Add/update/Delete/view cart\n",
    "            - Signup or login \n",
    "    Admin \n",
    "        - CRUD on products \n",
    "        - CRUD in product categories\n",
    "        - CRUD on orders \n",
    "        - Add discounts \n",
    "        - Order Dashboard "
   ]
  },
  {
   "cell_type": "code",
   "execution_count": null,
   "metadata": {},
   "outputs": [],
   "source": [
    "Product:\n",
    "    name\n",
    "    desc \n",
    "    unit price \n",
    "    category\n",
    "    stock \n",
    "    discount \n",
    "    stock\n",
    "   \n",
    "Product Image\n",
    "    product \n",
    "    image\n",
    "    \n",
    "1 product many images \n",
    "1 image no \n",
    "\n",
    "Cart:\n",
    "    user = models.OneToOneField(get_user_model())\n",
    "    is_ordered \n",
    "    total_price    \n",
    "\n",
    "Item\n",
    "    product \n",
    "    qty\n",
    "    cart     \n",
    "\n",
    "Order:\n",
    "    cart\n",
    "    user\n",
    "    date_created \n",
    "    shipment_date\n",
    "    status \n",
    "    \n",
    "User\n",
    "    first_name\n",
    "    last_name\n",
    "    email\n",
    "    contact\n",
    "    address1\n",
    "    address2\n",
    "    postal code "
   ]
  },
  {
   "cell_type": "code",
   "execution_count": null,
   "metadata": {},
   "outputs": [],
   "source": [
    "1. Search for templates \n",
    "2. Implemting the models and create queries "
   ]
  },
  {
   "cell_type": "code",
   "execution_count": null,
   "metadata": {},
   "outputs": [],
   "source": [
    "Product:\n",
    "    name\n",
    "    desc \n",
    "    unit price \n",
    "    image \n",
    "    category\n",
    "    discount \n",
    "    \n",
    "1 product : multiple options \n",
    "                \n",
    "Options\n",
    "    option category \n",
    "    name \n",
    "    product\n",
    "    stock \n",
    "    \n",
    "1 product many options \n",
    "1 option to 1 product\n",
    "\n",
    "1 to many "
   ]
  },
  {
   "cell_type": "code",
   "execution_count": null,
   "metadata": {},
   "outputs": [],
   "source": [
    "Products \n",
    "\n",
    "Cart \n",
    "\n",
    "Items "
   ]
  },
  {
   "cell_type": "code",
   "execution_count": null,
   "metadata": {},
   "outputs": [],
   "source": [
    "django-admin startproject project-name\n",
    "\n",
    "python manage.py startapp app-name "
   ]
  },
  {
   "cell_type": "code",
   "execution_count": null,
   "metadata": {},
   "outputs": [],
   "source": [
    "python manage.py startapp account \n",
    "\n",
    "Models.py \n",
    "\n",
    "class User(AbstarctUser)\n",
    "\n",
    "AUTH_USER_MODEL = \"account.User\"\n",
    "\n",
    "get_user_model()"
   ]
  },
  {
   "cell_type": "code",
   "execution_count": null,
   "metadata": {},
   "outputs": [],
   "source": [
    "Add the app in installed Apps "
   ]
  },
  {
   "cell_type": "code",
   "execution_count": null,
   "metadata": {},
   "outputs": [],
   "source": [
    "models.py \n",
    "\n",
    "models.Model \n",
    "\n",
    "models.FieldType()"
   ]
  },
  {
   "cell_type": "code",
   "execution_count": null,
   "metadata": {},
   "outputs": [],
   "source": [
    "User \n",
    "\n",
    "Cart \n",
    "\n",
    "delete a user : delete the cart \n",
    "    \n"
   ]
  },
  {
   "cell_type": "markdown",
   "metadata": {},
   "source": [
    "python manage.py makemigrations\n",
    "  - migration files \n",
    "python manage.py migrate\n",
    "  - tables or alter tables in db \n"
   ]
  },
  {
   "cell_type": "code",
   "execution_count": null,
   "metadata": {},
   "outputs": [],
   "source": [
    "admin.py "
   ]
  },
  {
   "cell_type": "code",
   "execution_count": 2,
   "metadata": {},
   "outputs": [
    {
     "ename": "NameError",
     "evalue": "name 'Modelname' is not defined",
     "output_type": "error",
     "traceback": [
      "\u001b[1;31m---------------------------------------------------------------------------\u001b[0m",
      "\u001b[1;31mNameError\u001b[0m                                 Traceback (most recent call last)",
      "\u001b[1;32m<ipython-input-2-b854df5ca1d7>\u001b[0m in \u001b[0;36m<module>\u001b[1;34m()\u001b[0m\n\u001b[1;32m----> 1\u001b[1;33m \u001b[0mModelname\u001b[0m\u001b[1;33m.\u001b[0m\u001b[0mobjects\u001b[0m\u001b[1;33m.\u001b[0m\u001b[0mcreate\u001b[0m\u001b[1;33m(\u001b[0m\u001b[1;33m**\u001b[0m\u001b[0mkwargs\u001b[0m \u001b[1;33m)\u001b[0m\u001b[1;33m\u001b[0m\u001b[0m\n\u001b[0m",
      "\u001b[1;31mNameError\u001b[0m: name 'Modelname' is not defined"
     ]
    }
   ],
   "source": [
    "Modelname.objects.create(**kwargs )"
   ]
  },
  {
   "cell_type": "code",
   "execution_count": null,
   "metadata": {},
   "outputs": [],
   "source": [
    "obj = Model.objects.get(field__exact= value)"
   ]
  },
  {
   "cell_type": "code",
   "execution_count": null,
   "metadata": {},
   "outputs": [],
   "source": [
    "queryset = Model.objects.filter(field__exact= value)"
   ]
  },
  {
   "cell_type": "code",
   "execution_count": null,
   "metadata": {},
   "outputs": [],
   "source": [
    "    \n",
    "Cart:\n",
    "    user = models.OneToOneField(get_user_model())\n",
    "    is_ordered \n",
    "    total_price    \n",
    "\n",
    "Item\n",
    "    product \n",
    "    qty\n",
    "    cart     \n",
    "\n",
    "Order:\n",
    "    cart\n",
    "    date_created \n",
    "    shipment_date\n",
    "    status"
   ]
  },
  {
   "cell_type": "code",
   "execution_count": null,
   "metadata": {},
   "outputs": [],
   "source": [
    "all orders for user with username \"ABC\"\n",
    "Order.object.filter(cart__user__username = 'abc')\n",
    "\n",
    "\n",
    "user = User.objects.get(username = \"abc\")\n",
    "user.cart.order_set.all()"
   ]
  },
  {
   "cell_type": "code",
   "execution_count": null,
   "metadata": {},
   "outputs": [],
   "source": [
    "Cat \n",
    "\n",
    "Post \n",
    " cat = foreighkey ,related_name = \"categories\"\n",
    "    \n",
    "Post.objects.filter(cat__name = \"Programming\")\n",
    "\n",
    "cat = Categoty.objects.get(id = 1)\n",
    "cat.post_set.all()"
   ]
  },
  {
   "cell_type": "code",
   "execution_count": null,
   "metadata": {},
   "outputs": [],
   "source": [
    "user.cart.order_set.all().count()"
   ]
  },
  {
   "cell_type": "code",
   "execution_count": null,
   "metadata": {},
   "outputs": [],
   "source": [
    ".exists()"
   ]
  },
  {
   "cell_type": "code",
   "execution_count": null,
   "metadata": {},
   "outputs": [],
   "source": [
    "q = User.objects.all()\n",
    "q.update(is_active = True)"
   ]
  },
  {
   "cell_type": "code",
   "execution_count": 3,
   "metadata": {},
   "outputs": [
    {
     "ename": "NameError",
     "evalue": "name 'select_related' is not defined",
     "output_type": "error",
     "traceback": [
      "\u001b[1;31m---------------------------------------------------------------------------\u001b[0m",
      "\u001b[1;31mNameError\u001b[0m                                 Traceback (most recent call last)",
      "\u001b[1;32m<ipython-input-3-d125e3447b0a>\u001b[0m in \u001b[0;36m<module>\u001b[1;34m()\u001b[0m\n\u001b[1;32m----> 1\u001b[1;33m \u001b[0mselect_related\u001b[0m\u001b[1;33m\u001b[0m\u001b[0m\n\u001b[0m",
      "\u001b[1;31mNameError\u001b[0m: name 'select_related' is not defined"
     ]
    }
   ],
   "source": [
    "select_related"
   ]
  },
  {
   "cell_type": "code",
   "execution_count": null,
   "metadata": {},
   "outputs": [],
   "source": [
    "prefect_related"
   ]
  },
  {
   "cell_type": "code",
   "execution_count": null,
   "metadata": {},
   "outputs": [],
   "source": [
    "obj = Post.objects.select_related('category') => 1\n",
    "for p in obj : \n",
    "    p.category.name\n",
    "101"
   ]
  },
  {
   "cell_type": "code",
   "execution_count": null,
   "metadata": {},
   "outputs": [],
   "source": [
    "annotate\n",
    "aggregate "
   ]
  },
  {
   "cell_type": "code",
   "execution_count": 4,
   "metadata": {},
   "outputs": [
    {
     "ename": "NameError",
     "evalue": "name 'User' is not defined",
     "output_type": "error",
     "traceback": [
      "\u001b[1;31m---------------------------------------------------------------------------\u001b[0m",
      "\u001b[1;31mNameError\u001b[0m                                 Traceback (most recent call last)",
      "\u001b[1;32m<ipython-input-4-bec377bce263>\u001b[0m in \u001b[0;36m<module>\u001b[1;34m()\u001b[0m\n\u001b[1;32m----> 1\u001b[1;33m \u001b[0mUser\u001b[0m\u001b[1;33m\u001b[0m\u001b[0m\n\u001b[0m\u001b[0;32m      2\u001b[0m \u001b[1;33m\u001b[0m\u001b[0m\n\u001b[0;32m      3\u001b[0m \u001b[0mGroups\u001b[0m\u001b[1;33m\u001b[0m\u001b[0m\n\u001b[0;32m      4\u001b[0m \u001b[1;33m\u001b[0m\u001b[0m\n",
      "\u001b[1;31mNameError\u001b[0m: name 'User' is not defined"
     ]
    }
   ],
   "source": [
    "User \n",
    "\n",
    "Groups \n",
    "\n",
    "u = User.objects.get(username = \"abc\")\n",
    "u.groups.add(g_obj)\n",
    "u.groups.all()"
   ]
  },
  {
   "cell_type": "code",
   "execution_count": null,
   "metadata": {},
   "outputs": [],
   "source": [
    "add\n",
    "remove\n",
    "all"
   ]
  },
  {
   "cell_type": "code",
   "execution_count": null,
   "metadata": {},
   "outputs": [],
   "source": [
    "\n",
    "class \n",
    "  var = [(),()]\n",
    "    \n",
    "appname.models.product.category \n"
   ]
  },
  {
   "cell_type": "code",
   "execution_count": null,
   "metadata": {},
   "outputs": [],
   "source": [
    "Prodct listing and product details "
   ]
  },
  {
   "cell_type": "code",
   "execution_count": null,
   "metadata": {},
   "outputs": [],
   "source": [
    "/products "
   ]
  },
  {
   "cell_type": "code",
   "execution_count": null,
   "metadata": {},
   "outputs": [],
   "source": [
    "List \n",
    "    queryset \n",
    "    model \n",
    "    template_name\n",
    "    \n",
    "    def get_context_data():\n",
    "        "
   ]
  },
  {
   "cell_type": "code",
   "execution_count": null,
   "metadata": {},
   "outputs": [],
   "source": [
    "/products/1 = >  DeatilView \n",
    "    pk_url_kwargs = "
   ]
  },
  {
   "cell_type": "code",
   "execution_count": null,
   "metadata": {},
   "outputs": [],
   "source": [
    "Btm = > Add to cart\n",
    "\n",
    "an\n",
    "\n",
    "add to cart => /add-to-cart?product_id = var_name&product_qty = var_name   => View \n",
    "    - add to session {1:2,4:1}\n",
    "    - redirect to product detail page redirect        \n",
    "\n",
    "logged in \n",
    "    - Item()\n",
    "    - add to cart "
   ]
  },
  {
   "cell_type": "code",
   "execution_count": null,
   "metadata": {},
   "outputs": [],
   "source": [
    "request.GET = {\"product_id\":1,\"prduct_qty\":1}\n",
    "request.POST \n",
    "request.FILES \n",
    "request.SESSION"
   ]
  },
  {
   "cell_type": "code",
   "execution_count": null,
   "metadata": {},
   "outputs": [],
   "source": [
    "View Cart :\n",
    "    \n",
    "an user :\n",
    "    view cart : view => iterate over the session data \n",
    "                        fetch the product\n",
    "                        calculate the total price \n",
    "\n",
    "loggedin user :\n",
    "    - cart \n",
    "    - calulate the total price "
   ]
  },
  {
   "cell_type": "code",
   "execution_count": null,
   "metadata": {},
   "outputs": [],
   "source": [
    "templates :\n",
    "    template_dir : root => templates \n",
    "    APP_DIR = True \n",
    "        \n",
    "    App : templates/blog/a.html  \n",
    "          render(blog/a.html)\n",
    "            \n",
    "Static:\n",
    "    static_url = \"/static/\"\n",
    "    static_dir = "
   ]
  },
  {
   "cell_type": "code",
   "execution_count": null,
   "metadata": {},
   "outputs": [],
   "source": [
    "127.0.0.1/static/blog/css/a.css "
   ]
  },
  {
   "cell_type": "code",
   "execution_count": null,
   "metadata": {},
   "outputs": [],
   "source": [
    "python manage.py collectstatic "
   ]
  },
  {
   "cell_type": "code",
   "execution_count": null,
   "metadata": {},
   "outputs": [],
   "source": [
    "media_url = \"/media/\"\n",
    "media_root = \n",
    "\n"
   ]
  },
  {
   "cell_type": "code",
   "execution_count": null,
   "metadata": {},
   "outputs": [],
   "source": []
  }
 ],
 "metadata": {
  "kernelspec": {
   "display_name": "Python 3",
   "language": "python",
   "name": "python3"
  },
  "language_info": {
   "codemirror_mode": {
    "name": "ipython",
    "version": 3
   },
   "file_extension": ".py",
   "mimetype": "text/x-python",
   "name": "python",
   "nbconvert_exporter": "python",
   "pygments_lexer": "ipython3",
   "version": "3.6.5"
  }
 },
 "nbformat": 4,
 "nbformat_minor": 2
}
